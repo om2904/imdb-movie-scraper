{
 "cells": [
  {
   "cell_type": "markdown",
   "id": "6f2657b4",
   "metadata": {},
   "source": [
    "# 🧹 Data Cleaning Notebook\n",
    "This notebook cleans the raw IMDb movie dataset."
   ]
  },
  {
   "cell_type": "code",
   "execution_count": null,
   "id": "54d42d02",
   "metadata": {},
   "outputs": [],
   "source": [
    "import pandas as pd\n",
    "\n",
    "# Load dataset\n",
    "df = pd.read_csv('imdb_movies.csv')\n",
    "df.head()"
   ]
  },
  {
   "cell_type": "code",
   "execution_count": null,
   "id": "4f1c34a0",
   "metadata": {},
   "outputs": [],
   "source": [
    "# Basic info and null values\n",
    "df.info()\n",
    "df.isnull().sum()"
   ]
  },
  {
   "cell_type": "code",
   "execution_count": null,
   "id": "085813d0",
   "metadata": {},
   "outputs": [],
   "source": [
    "# Drop rows with missing critical values\n",
    "df = df.dropna(subset=['Title', 'Rating', 'Year'])"
   ]
  },
  {
   "cell_type": "code",
   "execution_count": null,
   "id": "490493e6",
   "metadata": {},
   "outputs": [],
   "source": [
    "# Convert data types\n",
    "df['Year'] = df['Year'].astype(int)\n",
    "df['Rating'] = pd.to_numeric(df['Rating'], errors='coerce')"
   ]
  },
  {
   "cell_type": "code",
   "execution_count": null,
   "id": "8411c327",
   "metadata": {},
   "outputs": [],
   "source": [
    "# Optional: Reset index and save cleaned data\n",
    "df.reset_index(drop=True, inplace=True)\n",
    "df.to_csv('imdb_movies_cleaned.csv', index=False)\n",
    "df.head()"
   ]
  }
 ],
 "metadata": {},
 "nbformat": 4,
 "nbformat_minor": 5
}
