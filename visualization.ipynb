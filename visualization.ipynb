{
 "cells": [
  {
   "cell_type": "markdown",
   "id": "e5bc43d2",
   "metadata": {},
   "source": [
    "# 📊 Data Visualization Notebook\n",
    "This notebook creates visual insights from the IMDb dataset."
   ]
  },
  {
   "cell_type": "code",
   "execution_count": null,
   "id": "f4b2f0d2",
   "metadata": {},
   "outputs": [],
   "source": [
    "import pandas as pd\n",
    "import matplotlib.pyplot as plt\n",
    "import seaborn as sns\n",
    "\n",
    "# Load cleaned dataset\n",
    "df = pd.read_csv('imdb_movies_cleaned.csv')"
   ]
  },
  {
   "cell_type": "code",
   "execution_count": null,
   "id": "ecc8c6d9",
   "metadata": {},
   "outputs": [],
   "source": [
    "# Distribution of Ratings\n",
    "plt.figure(figsize=(8,5))\n",
    "sns.histplot(df['Rating'], bins=20, kde=True)\n",
    "plt.title('Distribution of IMDb Ratings')\n",
    "plt.xlabel('Rating')\n",
    "plt.ylabel('Count')\n",
    "plt.show()"
   ]
  },
  {
   "cell_type": "code",
   "execution_count": null,
   "id": "8075140a",
   "metadata": {},
   "outputs": [],
   "source": [
    "# Top 10 Genres (if genre column exists)\n",
    "if 'Genre' in df.columns:\n",
    "    genre_counts = df['Genre'].value_counts().head(10)\n",
    "    genre_counts.plot(kind='bar', figsize=(10,5), title='Top 10 Genres')\n",
    "    plt.ylabel('Number of Movies')\n",
    "    plt.show()"
   ]
  },
  {
   "cell_type": "code",
   "execution_count": null,
   "id": "5ed89ec4",
   "metadata": {},
   "outputs": [],
   "source": [
    "# Rating vs Year\n",
    "plt.figure(figsize=(10,6))\n",
    "sns.scatterplot(data=df, x='Year', y='Rating', alpha=0.5)\n",
    "plt.title('IMDb Rating Over Years')\n",
    "plt.xlabel('Year')\n",
    "plt.ylabel('Rating')\n",
    "plt.show()"
   ]
  }
 ],
 "metadata": {},
 "nbformat": 4,
 "nbformat_minor": 5
}
